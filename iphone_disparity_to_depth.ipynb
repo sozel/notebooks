import matplotlib.pyplot as plt
import numpy as np
import random

# Summary:
# My naive approach to understand why deriving at absolute depth from disparity loses accuracy after a particular and somewhat near distance ~ 1 meter. 

# Background: 
# We are able to acquire disparity map from iPhone's portrait photos.  From that we try to derive at an absolute depth information using the most intuitive conversion
# i.e. depth = 1 / disparity
# However this conversion made it very apparent that after 1.5m of distance, the derived values of absolute depth would become coarse.

# Theory:
# I wanted to entertain the idea of actually calculating the absolute depth more precisely using focal length, baseline and disparity values.  
# i.e. Z = focal_length * baseline / disparity
# I expected the results to be more consistent with uniform density even after 1 meter.

# However in order to calculate focal length in pixel, we needed some camera specifications such as focal length in mm, sensor width and image width.
# i.e. focal_length_px = (focal_length_mm / sensor_width_mm) * image_width_in_pixels

# Findings:
# Even after calculating absolute depth by focal length and baseline, the same pattern repeated; I lost granularity in absolute depth after 1 meter.
# It was apparent that there wasn't a linear correlation and I should have easily picked that up from 1 / disparity equation. 
# Furthermore, the baseline and focal-length only allowed granularity up to 1 meter. 
# If the baseline was increased to 545mm, then, the granularity of depth extends to 3.5 meters.  This made more sense because when the baseline increases, 
# the depth resolution increases as well. 

iphone_focal_length_mm = 13
iphone_sensor_width_mm = 4.2336
iphone_image_width_px = 4042
iphone_baseline_mm = 145

# focal_length_px = (focal_length_mm / sensor_width_mm) * image_width_in_pixels
focal_length_px = (iphone_focal_length_mm / iphone_sensor_width_mm) * iphone_image_width_px

# Z = focal_length * baseline / disparity
# where
# Z = Distance along the camera Z axis
# focal_length = focal length (in pixels)
# baseline = baseline (in metres)
# disparity = disparity (in pixels)

def toDepth(disparity_px):
    iphone_baseline_m = iphone_baseline_mm / 1000
    return (focal_length_px * iphone_baseline_m) / disparity_px

def inverse(disparity_px):
    return 1 / disparity_px
  
sample_disparity_values = np.random.randint(low=1,high=50,size=500)
print(sample_disparity_values)

depth = list(map(toDepth, sample_disparity_values))
# print(depth)

plt.xlabel('Disparity in Pixels')
plt.ylabel('Depth')
plt.scatter(sample_disparity_values, depth, c='b')
plt.show()
